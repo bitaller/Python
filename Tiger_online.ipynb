{
  "nbformat": 4,
  "nbformat_minor": 0,
  "metadata": {
    "colab": {
      "name": "Tiger-online.ipynb",
      "version": "0.3.2",
      "provenance": [],
      "include_colab_link": true
    },
    "kernelspec": {
      "name": "python3",
      "display_name": "Python 3"
    }
  },
  "cells": [
    {
      "cell_type": "markdown",
      "metadata": {
        "id": "view-in-github",
        "colab_type": "text"
      },
      "source": [
        "<a href=\"https://colab.research.google.com/github/bitaller/Python/blob/master/Tiger_online.ipynb\" target=\"_parent\"><img src=\"https://colab.research.google.com/assets/colab-badge.svg\" alt=\"Open In Colab\"/></a>"
      ]
    },
    {
      "metadata": {
        "id": "2m-W7_IIPptM",
        "colab_type": "code",
        "colab": {
          "base_uri": "https://localhost:8080/",
          "height": 34
        },
        "outputId": "edabf9f3-f224-4d32-d722-3783c0fc6b57"
      },
      "cell_type": "code",
      "source": [
        "!pwd"
      ],
      "execution_count": 1,
      "outputs": [
        {
          "output_type": "stream",
          "text": [
            "/content\n"
          ],
          "name": "stdout"
        }
      ]
    },
    {
      "metadata": {
        "id": "D4Ofb2NiPvgt",
        "colab_type": "code",
        "colab": {
          "base_uri": "https://localhost:8080/",
          "height": 158
        },
        "outputId": "6597c0f9-34bd-4515-94a9-4ef2a5351737"
      },
      "cell_type": "code",
      "source": [
        "!pip install fake_useragent"
      ],
      "execution_count": 3,
      "outputs": [
        {
          "output_type": "stream",
          "text": [
            "Collecting fake_useragent\n",
            "  Downloading https://files.pythonhosted.org/packages/d1/79/af647635d6968e2deb57a208d309f6069d31cb138066d7e821e575112a80/fake-useragent-0.1.11.tar.gz\n",
            "Building wheels for collected packages: fake-useragent\n",
            "  Running setup.py bdist_wheel for fake-useragent ... \u001b[?25l-\b \bdone\n",
            "\u001b[?25h  Stored in directory: /root/.cache/pip/wheels/5e/63/09/d1dc15179f175357d3f5c00cbffbac37f9e8690d80545143ff\n",
            "Successfully built fake-useragent\n",
            "Installing collected packages: fake-useragent\n",
            "Successfully installed fake-useragent-0.1.11\n"
          ],
          "name": "stdout"
        }
      ]
    },
    {
      "metadata": {
        "id": "xC1BEYRkQFFW",
        "colab_type": "code",
        "colab": {}
      },
      "cell_type": "code",
      "source": [
        "from google.colab import files\n",
        "files.download('test.txt')\n",
        "from google.colab import drive\n",
        "drive.mount('/content/gdrive')"
      ],
      "execution_count": 0,
      "outputs": []
    },
    {
      "metadata": {
        "id": "c6xdaSbTQHQC",
        "colab_type": "code",
        "colab": {
          "base_uri": "https://localhost:8080/",
          "height": 2742
        },
        "outputId": "28535d8d-9171-4aa8-b1ab-5e1aa258333b"
      },
      "cell_type": "code",
      "source": [
        "# 国产非特殊化妆品列表页 - POST / JSON\n",
        "def main():\n",
        "    pass\n",
        "\n",
        "def json_parse(fnout, txt_resp):\n",
        "    js_resp = json.loads(txt_resp)\n",
        "    totalCount = js_resp[\"totalCount\"] * 1\n",
        "    if totalCount>0:\n",
        "        with open(fnout, 'a+', encoding='utf8') as fout:\n",
        "             for prod_dic in js_resp['list']:\n",
        "                fout.write(json.dumps(prod_dic, ensure_ascii=False) + '\\n')   \n",
        "    #            js_pr = json.loads(json.dumps(prod_dic, ensure_ascii=False))\n",
        "    return totalCount\n",
        "\n",
        "def verify_file():\n",
        "    idMatchFlag = True\n",
        "    fnout = r'c:\\tmp\\Tiger-Json-20190107.txt'\n",
        "    with open(fnout, 'r', encoding='utf8') as fout:\n",
        "        li = fout.readlines()\n",
        "    print('Lines# in file -', len(li))\n",
        "    p = []\n",
        "    for l in li:\n",
        "        js_response = json.loads(l)\n",
        "        id = js_response['newProcessid']\n",
        "        idMatchFlag = idMatchFlag and (js_response['processid'] == id)\n",
        "        if id not in p:\n",
        "            p.append(id)\n",
        "    print('Unique Processid - ', len(p))  \n",
        "    print('[processid] matching [newProcessid] - ', idMatchFlag)     \n",
        "\n",
        "if __name__ == \"__main__\":   \n",
        "    main()\n",
        "\n",
        "# -*- coding: utf-8 -*-\n",
        "\n",
        "import requests\n",
        "import random\n",
        "from time import sleep\n",
        "import json\n",
        "from math import ceil\n",
        "from fake_useragent import UserAgent\n",
        "skipList = []\n",
        "ua = UserAgent()\n",
        "postUrl = \"http://125.35.6.80:8181/ftban/itownet/fwAction.do?method=getBaNewInfoPage\"\n",
        "header = {\n",
        "    \"Connection\" : \"keep-alive\"\n",
        "    , \"Content-Length\" : \"77\"\n",
        "    , \"Accept\" : \"*/*\"\n",
        "    , \"Origin\" : \"http://125.35.6.80:8181\"\n",
        "    , \"X-Requested-With\" : \"XMLHttpRequest\"\n",
        "    , \"User-Agent\" : \"\"\n",
        "    , \"Content-Type\" : \"application/x-www-form-urlencoded;utf-8\"\n",
        "    , \"Referer\" : \"http://125.35.6.80:8181/ftban/fw.jsp\"\n",
        "    , \"Accept-Encoding\" : \"gzip, deflate\"\n",
        "    , \"Accept-Language\" : \"zh-CN,zh;q=0.9\"\n",
        "}\n",
        "req = requests.session()\n",
        "\n",
        "# ***********************\n",
        "# Parameter set\n",
        "fnout = r'/content/gdrive/My Drive/colab/Yue-10k.txt'\n",
        "preLicense = \"粤G妆网备字2018\"\n",
        "StartNum = 10000\n",
        "EndNum = 15000\n",
        "MinDelay = 0\n",
        "MaxDelay = 2\n",
        "# ***********************\n",
        "\n",
        "for i in range(StartNum, EndNum):\n",
        "    pName = preLicense + ('00000'+str(i))[-5:]  # '%05d'%i\n",
        "    print('Searching {}...'.format(pName))\n",
        "    postData = {\n",
        "        \"on\" : \"true\"\n",
        "        , \"page\" : \"1\"\n",
        "        , \"pageSize\" : \"15\"\n",
        "        , \"productName\" : \"{}\".format(pName)\n",
        "        , \"conditionType\" : \"2\"\n",
        "        , \"applyname\" : \"\"\n",
        "        , \"applysn\" : \"\" \n",
        "    }\n",
        "    header[\"User-Agent\"] = ua.random\n",
        "    for n in range(5):\n",
        "        if n>0:\n",
        "            print(f'Retry {str(n)}...')\n",
        "        responseRes = req.post(postUrl, data = postData, headers = header)\n",
        "        print(f\"statusCode = {responseRes.status_code}\")\n",
        "        if responseRes.text:\n",
        "            break\n",
        "    if responseRes.text:\n",
        "        totalCount = json_parse(fnout, responseRes.text)\n",
        "        print('{} has {} lines'.format(pName, totalCount))\n",
        "        sleep(2 + random.randint(MinDelay, MaxDelay))\n",
        "        if totalCount>15:\n",
        "            for pg in range(2, ceil(totalCount/15)+1):\n",
        "                print('Searching {} - page {}...'.format(pName, str(pg)))\n",
        "                postData[\"page\"] = str(pg)\n",
        "                header[\"User-Agent\"] = ua.random\n",
        "                responseRes = req.post(postUrl, data = postData, headers = header)\n",
        "                print(f\"statusCode = {responseRes.status_code}\")\n",
        "                totalCount = json_parse(fnout, responseRes.text)\n",
        "                sleep(15 + random.randint(MinDelay, MaxDelay))\n",
        "    else:\n",
        "        skipList.append(pName)\n",
        "        \n",
        "if skipList:\n",
        "    print(skipList)\n",
        "    \n",
        "print('---DONE---')    "
      ],
      "execution_count": 10,
      "outputs": [
        {
          "output_type": "stream",
          "text": [
            "Error occurred during loading data. Trying to use cache server https://fake-useragent.herokuapp.com/browsers/0.1.11\n",
            "Traceback (most recent call last):\n",
            "  File \"/usr/lib/python3.6/urllib/request.py\", line 1318, in do_open\n",
            "    encode_chunked=req.has_header('Transfer-encoding'))\n",
            "  File \"/usr/lib/python3.6/http/client.py\", line 1239, in request\n",
            "    self._send_request(method, url, body, headers, encode_chunked)\n",
            "  File \"/usr/lib/python3.6/http/client.py\", line 1285, in _send_request\n",
            "    self.endheaders(body, encode_chunked=encode_chunked)\n",
            "  File \"/usr/lib/python3.6/http/client.py\", line 1234, in endheaders\n",
            "    self._send_output(message_body, encode_chunked=encode_chunked)\n",
            "  File \"/usr/lib/python3.6/http/client.py\", line 1026, in _send_output\n",
            "    self.send(msg)\n",
            "  File \"/usr/lib/python3.6/http/client.py\", line 964, in send\n",
            "    self.connect()\n",
            "  File \"/usr/lib/python3.6/http/client.py\", line 936, in connect\n",
            "    (self.host,self.port), self.timeout, self.source_address)\n",
            "  File \"/usr/lib/python3.6/socket.py\", line 724, in create_connection\n",
            "    raise err\n",
            "  File \"/usr/lib/python3.6/socket.py\", line 713, in create_connection\n",
            "    sock.connect(sa)\n",
            "socket.timeout: timed out\n",
            "\n",
            "During handling of the above exception, another exception occurred:\n",
            "\n",
            "Traceback (most recent call last):\n",
            "  File \"/usr/local/lib/python3.6/dist-packages/fake_useragent/utils.py\", line 67, in get\n",
            "    context=context,\n",
            "  File \"/usr/lib/python3.6/urllib/request.py\", line 223, in urlopen\n",
            "    return opener.open(url, data, timeout)\n",
            "  File \"/usr/lib/python3.6/urllib/request.py\", line 526, in open\n",
            "    response = self._open(req, data)\n",
            "  File \"/usr/lib/python3.6/urllib/request.py\", line 544, in _open\n",
            "    '_open', req)\n",
            "  File \"/usr/lib/python3.6/urllib/request.py\", line 504, in _call_chain\n",
            "    result = func(*args)\n",
            "  File \"/usr/lib/python3.6/urllib/request.py\", line 1346, in http_open\n",
            "    return self.do_open(http.client.HTTPConnection, req)\n",
            "  File \"/usr/lib/python3.6/urllib/request.py\", line 1320, in do_open\n",
            "    raise URLError(err)\n",
            "urllib.error.URLError: <urlopen error timed out>\n",
            "\n",
            "During handling of the above exception, another exception occurred:\n",
            "\n",
            "Traceback (most recent call last):\n",
            "  File \"/usr/local/lib/python3.6/dist-packages/fake_useragent/utils.py\", line 166, in load\n",
            "    verify_ssl=verify_ssl,\n",
            "  File \"/usr/local/lib/python3.6/dist-packages/fake_useragent/utils.py\", line 122, in get_browser_versions\n",
            "    verify_ssl=verify_ssl,\n",
            "  File \"/usr/local/lib/python3.6/dist-packages/fake_useragent/utils.py\", line 84, in get\n",
            "    raise FakeUserAgentError('Maximum amount of retries reached')\n",
            "fake_useragent.errors.FakeUserAgentError: Maximum amount of retries reached\n"
          ],
          "name": "stderr"
        },
        {
          "output_type": "stream",
          "text": [
            "Searching 粤G妆网备字201810000...\n",
            "statusCode = 200\n",
            "粤G妆网备字201810000 has 15 lines\n",
            "Searching 粤G妆网备字201810001...\n",
            "statusCode = 200\n",
            "粤G妆网备字201810001 has 17 lines\n",
            "Searching 粤G妆网备字201810001 - page 2...\n",
            "statusCode = 200\n",
            "Searching 粤G妆网备字201810002...\n",
            "statusCode = 200\n",
            "粤G妆网备字201810002 has 15 lines\n",
            "Searching 粤G妆网备字201810003...\n",
            "statusCode = 200\n",
            "粤G妆网备字201810003 has 13 lines\n",
            "Searching 粤G妆网备字201810004...\n",
            "statusCode = 200\n",
            "粤G妆网备字201810004 has 18 lines\n",
            "Searching 粤G妆网备字201810004 - page 2...\n",
            "statusCode = 200\n",
            "Searching 粤G妆网备字201810005...\n"
          ],
          "name": "stdout"
        },
        {
          "output_type": "error",
          "ename": "KeyboardInterrupt",
          "evalue": "ignored",
          "traceback": [
            "\u001b[0;31m---------------------------------------------------------------------------\u001b[0m",
            "\u001b[0;31mKeyboardInterrupt\u001b[0m                         Traceback (most recent call last)",
            "\u001b[0;32m<ipython-input-10-ee3e6e8e331b>\u001b[0m in \u001b[0;36m<module>\u001b[0;34m()\u001b[0m\n\u001b[1;32m     82\u001b[0m         \u001b[0;32mif\u001b[0m \u001b[0mn\u001b[0m\u001b[0;34m>\u001b[0m\u001b[0;36m0\u001b[0m\u001b[0;34m:\u001b[0m\u001b[0;34m\u001b[0m\u001b[0;34m\u001b[0m\u001b[0m\n\u001b[1;32m     83\u001b[0m             \u001b[0mprint\u001b[0m\u001b[0;34m(\u001b[0m\u001b[0;34mf'Retry {str(n)}...'\u001b[0m\u001b[0;34m)\u001b[0m\u001b[0;34m\u001b[0m\u001b[0;34m\u001b[0m\u001b[0m\n\u001b[0;32m---> 84\u001b[0;31m         \u001b[0mresponseRes\u001b[0m \u001b[0;34m=\u001b[0m \u001b[0mreq\u001b[0m\u001b[0;34m.\u001b[0m\u001b[0mpost\u001b[0m\u001b[0;34m(\u001b[0m\u001b[0mpostUrl\u001b[0m\u001b[0;34m,\u001b[0m \u001b[0mdata\u001b[0m \u001b[0;34m=\u001b[0m \u001b[0mpostData\u001b[0m\u001b[0;34m,\u001b[0m \u001b[0mheaders\u001b[0m \u001b[0;34m=\u001b[0m \u001b[0mheader\u001b[0m\u001b[0;34m)\u001b[0m\u001b[0;34m\u001b[0m\u001b[0;34m\u001b[0m\u001b[0m\n\u001b[0m\u001b[1;32m     85\u001b[0m         \u001b[0mprint\u001b[0m\u001b[0;34m(\u001b[0m\u001b[0;34mf\"statusCode = {responseRes.status_code}\"\u001b[0m\u001b[0;34m)\u001b[0m\u001b[0;34m\u001b[0m\u001b[0;34m\u001b[0m\u001b[0m\n\u001b[1;32m     86\u001b[0m         \u001b[0;32mif\u001b[0m \u001b[0mresponseRes\u001b[0m\u001b[0;34m.\u001b[0m\u001b[0mtext\u001b[0m\u001b[0;34m:\u001b[0m\u001b[0;34m\u001b[0m\u001b[0;34m\u001b[0m\u001b[0m\n",
            "\u001b[0;32m/usr/local/lib/python3.6/dist-packages/requests/sessions.py\u001b[0m in \u001b[0;36mpost\u001b[0;34m(self, url, data, json, **kwargs)\u001b[0m\n\u001b[1;32m    553\u001b[0m         \"\"\"\n\u001b[1;32m    554\u001b[0m \u001b[0;34m\u001b[0m\u001b[0m\n\u001b[0;32m--> 555\u001b[0;31m         \u001b[0;32mreturn\u001b[0m \u001b[0mself\u001b[0m\u001b[0;34m.\u001b[0m\u001b[0mrequest\u001b[0m\u001b[0;34m(\u001b[0m\u001b[0;34m'POST'\u001b[0m\u001b[0;34m,\u001b[0m \u001b[0murl\u001b[0m\u001b[0;34m,\u001b[0m \u001b[0mdata\u001b[0m\u001b[0;34m=\u001b[0m\u001b[0mdata\u001b[0m\u001b[0;34m,\u001b[0m \u001b[0mjson\u001b[0m\u001b[0;34m=\u001b[0m\u001b[0mjson\u001b[0m\u001b[0;34m,\u001b[0m \u001b[0;34m**\u001b[0m\u001b[0mkwargs\u001b[0m\u001b[0;34m)\u001b[0m\u001b[0;34m\u001b[0m\u001b[0;34m\u001b[0m\u001b[0m\n\u001b[0m\u001b[1;32m    556\u001b[0m \u001b[0;34m\u001b[0m\u001b[0m\n\u001b[1;32m    557\u001b[0m     \u001b[0;32mdef\u001b[0m \u001b[0mput\u001b[0m\u001b[0;34m(\u001b[0m\u001b[0mself\u001b[0m\u001b[0;34m,\u001b[0m \u001b[0murl\u001b[0m\u001b[0;34m,\u001b[0m \u001b[0mdata\u001b[0m\u001b[0;34m=\u001b[0m\u001b[0;32mNone\u001b[0m\u001b[0;34m,\u001b[0m \u001b[0;34m**\u001b[0m\u001b[0mkwargs\u001b[0m\u001b[0;34m)\u001b[0m\u001b[0;34m:\u001b[0m\u001b[0;34m\u001b[0m\u001b[0;34m\u001b[0m\u001b[0m\n",
            "\u001b[0;32m/usr/local/lib/python3.6/dist-packages/requests/sessions.py\u001b[0m in \u001b[0;36mrequest\u001b[0;34m(self, method, url, params, data, headers, cookies, files, auth, timeout, allow_redirects, proxies, hooks, stream, verify, cert, json)\u001b[0m\n\u001b[1;32m    506\u001b[0m         }\n\u001b[1;32m    507\u001b[0m         \u001b[0msend_kwargs\u001b[0m\u001b[0;34m.\u001b[0m\u001b[0mupdate\u001b[0m\u001b[0;34m(\u001b[0m\u001b[0msettings\u001b[0m\u001b[0;34m)\u001b[0m\u001b[0;34m\u001b[0m\u001b[0;34m\u001b[0m\u001b[0m\n\u001b[0;32m--> 508\u001b[0;31m         \u001b[0mresp\u001b[0m \u001b[0;34m=\u001b[0m \u001b[0mself\u001b[0m\u001b[0;34m.\u001b[0m\u001b[0msend\u001b[0m\u001b[0;34m(\u001b[0m\u001b[0mprep\u001b[0m\u001b[0;34m,\u001b[0m \u001b[0;34m**\u001b[0m\u001b[0msend_kwargs\u001b[0m\u001b[0;34m)\u001b[0m\u001b[0;34m\u001b[0m\u001b[0;34m\u001b[0m\u001b[0m\n\u001b[0m\u001b[1;32m    509\u001b[0m \u001b[0;34m\u001b[0m\u001b[0m\n\u001b[1;32m    510\u001b[0m         \u001b[0;32mreturn\u001b[0m \u001b[0mresp\u001b[0m\u001b[0;34m\u001b[0m\u001b[0;34m\u001b[0m\u001b[0m\n",
            "\u001b[0;32m/usr/local/lib/python3.6/dist-packages/requests/sessions.py\u001b[0m in \u001b[0;36msend\u001b[0;34m(self, request, **kwargs)\u001b[0m\n\u001b[1;32m    656\u001b[0m \u001b[0;34m\u001b[0m\u001b[0m\n\u001b[1;32m    657\u001b[0m         \u001b[0;32mif\u001b[0m \u001b[0;32mnot\u001b[0m \u001b[0mstream\u001b[0m\u001b[0;34m:\u001b[0m\u001b[0;34m\u001b[0m\u001b[0;34m\u001b[0m\u001b[0m\n\u001b[0;32m--> 658\u001b[0;31m             \u001b[0mr\u001b[0m\u001b[0;34m.\u001b[0m\u001b[0mcontent\u001b[0m\u001b[0;34m\u001b[0m\u001b[0;34m\u001b[0m\u001b[0m\n\u001b[0m\u001b[1;32m    659\u001b[0m \u001b[0;34m\u001b[0m\u001b[0m\n\u001b[1;32m    660\u001b[0m         \u001b[0;32mreturn\u001b[0m \u001b[0mr\u001b[0m\u001b[0;34m\u001b[0m\u001b[0;34m\u001b[0m\u001b[0m\n",
            "\u001b[0;32m/usr/local/lib/python3.6/dist-packages/requests/models.py\u001b[0m in \u001b[0;36mcontent\u001b[0;34m(self)\u001b[0m\n\u001b[1;32m    821\u001b[0m                 \u001b[0mself\u001b[0m\u001b[0;34m.\u001b[0m\u001b[0m_content\u001b[0m \u001b[0;34m=\u001b[0m \u001b[0;32mNone\u001b[0m\u001b[0;34m\u001b[0m\u001b[0;34m\u001b[0m\u001b[0m\n\u001b[1;32m    822\u001b[0m             \u001b[0;32melse\u001b[0m\u001b[0;34m:\u001b[0m\u001b[0;34m\u001b[0m\u001b[0;34m\u001b[0m\u001b[0m\n\u001b[0;32m--> 823\u001b[0;31m                 \u001b[0mself\u001b[0m\u001b[0;34m.\u001b[0m\u001b[0m_content\u001b[0m \u001b[0;34m=\u001b[0m \u001b[0mbytes\u001b[0m\u001b[0;34m(\u001b[0m\u001b[0;34m)\u001b[0m\u001b[0;34m.\u001b[0m\u001b[0mjoin\u001b[0m\u001b[0;34m(\u001b[0m\u001b[0mself\u001b[0m\u001b[0;34m.\u001b[0m\u001b[0miter_content\u001b[0m\u001b[0;34m(\u001b[0m\u001b[0mCONTENT_CHUNK_SIZE\u001b[0m\u001b[0;34m)\u001b[0m\u001b[0;34m)\u001b[0m \u001b[0;32mor\u001b[0m \u001b[0mbytes\u001b[0m\u001b[0;34m(\u001b[0m\u001b[0;34m)\u001b[0m\u001b[0;34m\u001b[0m\u001b[0;34m\u001b[0m\u001b[0m\n\u001b[0m\u001b[1;32m    824\u001b[0m \u001b[0;34m\u001b[0m\u001b[0m\n\u001b[1;32m    825\u001b[0m         \u001b[0mself\u001b[0m\u001b[0;34m.\u001b[0m\u001b[0m_content_consumed\u001b[0m \u001b[0;34m=\u001b[0m \u001b[0;32mTrue\u001b[0m\u001b[0;34m\u001b[0m\u001b[0;34m\u001b[0m\u001b[0m\n",
            "\u001b[0;32m/usr/local/lib/python3.6/dist-packages/requests/models.py\u001b[0m in \u001b[0;36mgenerate\u001b[0;34m()\u001b[0m\n\u001b[1;32m    743\u001b[0m             \u001b[0;32mif\u001b[0m \u001b[0mhasattr\u001b[0m\u001b[0;34m(\u001b[0m\u001b[0mself\u001b[0m\u001b[0;34m.\u001b[0m\u001b[0mraw\u001b[0m\u001b[0;34m,\u001b[0m \u001b[0;34m'stream'\u001b[0m\u001b[0;34m)\u001b[0m\u001b[0;34m:\u001b[0m\u001b[0;34m\u001b[0m\u001b[0;34m\u001b[0m\u001b[0m\n\u001b[1;32m    744\u001b[0m                 \u001b[0;32mtry\u001b[0m\u001b[0;34m:\u001b[0m\u001b[0;34m\u001b[0m\u001b[0;34m\u001b[0m\u001b[0m\n\u001b[0;32m--> 745\u001b[0;31m                     \u001b[0;32mfor\u001b[0m \u001b[0mchunk\u001b[0m \u001b[0;32min\u001b[0m \u001b[0mself\u001b[0m\u001b[0;34m.\u001b[0m\u001b[0mraw\u001b[0m\u001b[0;34m.\u001b[0m\u001b[0mstream\u001b[0m\u001b[0;34m(\u001b[0m\u001b[0mchunk_size\u001b[0m\u001b[0;34m,\u001b[0m \u001b[0mdecode_content\u001b[0m\u001b[0;34m=\u001b[0m\u001b[0;32mTrue\u001b[0m\u001b[0;34m)\u001b[0m\u001b[0;34m:\u001b[0m\u001b[0;34m\u001b[0m\u001b[0;34m\u001b[0m\u001b[0m\n\u001b[0m\u001b[1;32m    746\u001b[0m                         \u001b[0;32myield\u001b[0m \u001b[0mchunk\u001b[0m\u001b[0;34m\u001b[0m\u001b[0;34m\u001b[0m\u001b[0m\n\u001b[1;32m    747\u001b[0m                 \u001b[0;32mexcept\u001b[0m \u001b[0mProtocolError\u001b[0m \u001b[0;32mas\u001b[0m \u001b[0me\u001b[0m\u001b[0;34m:\u001b[0m\u001b[0;34m\u001b[0m\u001b[0;34m\u001b[0m\u001b[0m\n",
            "\u001b[0;32m/usr/local/lib/python3.6/dist-packages/urllib3/response.py\u001b[0m in \u001b[0;36mstream\u001b[0;34m(self, amt, decode_content)\u001b[0m\n\u001b[1;32m    434\u001b[0m         \u001b[0;32melse\u001b[0m\u001b[0;34m:\u001b[0m\u001b[0;34m\u001b[0m\u001b[0;34m\u001b[0m\u001b[0m\n\u001b[1;32m    435\u001b[0m             \u001b[0;32mwhile\u001b[0m \u001b[0;32mnot\u001b[0m \u001b[0mis_fp_closed\u001b[0m\u001b[0;34m(\u001b[0m\u001b[0mself\u001b[0m\u001b[0;34m.\u001b[0m\u001b[0m_fp\u001b[0m\u001b[0;34m)\u001b[0m\u001b[0;34m:\u001b[0m\u001b[0;34m\u001b[0m\u001b[0;34m\u001b[0m\u001b[0m\n\u001b[0;32m--> 436\u001b[0;31m                 \u001b[0mdata\u001b[0m \u001b[0;34m=\u001b[0m \u001b[0mself\u001b[0m\u001b[0;34m.\u001b[0m\u001b[0mread\u001b[0m\u001b[0;34m(\u001b[0m\u001b[0mamt\u001b[0m\u001b[0;34m=\u001b[0m\u001b[0mamt\u001b[0m\u001b[0;34m,\u001b[0m \u001b[0mdecode_content\u001b[0m\u001b[0;34m=\u001b[0m\u001b[0mdecode_content\u001b[0m\u001b[0;34m)\u001b[0m\u001b[0;34m\u001b[0m\u001b[0;34m\u001b[0m\u001b[0m\n\u001b[0m\u001b[1;32m    437\u001b[0m \u001b[0;34m\u001b[0m\u001b[0m\n\u001b[1;32m    438\u001b[0m                 \u001b[0;32mif\u001b[0m \u001b[0mdata\u001b[0m\u001b[0;34m:\u001b[0m\u001b[0;34m\u001b[0m\u001b[0;34m\u001b[0m\u001b[0m\n",
            "\u001b[0;32m/usr/local/lib/python3.6/dist-packages/urllib3/response.py\u001b[0m in \u001b[0;36mread\u001b[0;34m(self, amt, decode_content, cache_content)\u001b[0m\n\u001b[1;32m    382\u001b[0m             \u001b[0;32melse\u001b[0m\u001b[0;34m:\u001b[0m\u001b[0;34m\u001b[0m\u001b[0;34m\u001b[0m\u001b[0m\n\u001b[1;32m    383\u001b[0m                 \u001b[0mcache_content\u001b[0m \u001b[0;34m=\u001b[0m \u001b[0;32mFalse\u001b[0m\u001b[0;34m\u001b[0m\u001b[0;34m\u001b[0m\u001b[0m\n\u001b[0;32m--> 384\u001b[0;31m                 \u001b[0mdata\u001b[0m \u001b[0;34m=\u001b[0m \u001b[0mself\u001b[0m\u001b[0;34m.\u001b[0m\u001b[0m_fp\u001b[0m\u001b[0;34m.\u001b[0m\u001b[0mread\u001b[0m\u001b[0;34m(\u001b[0m\u001b[0mamt\u001b[0m\u001b[0;34m)\u001b[0m\u001b[0;34m\u001b[0m\u001b[0;34m\u001b[0m\u001b[0m\n\u001b[0m\u001b[1;32m    385\u001b[0m                 \u001b[0;32mif\u001b[0m \u001b[0mamt\u001b[0m \u001b[0;34m!=\u001b[0m \u001b[0;36m0\u001b[0m \u001b[0;32mand\u001b[0m \u001b[0;32mnot\u001b[0m \u001b[0mdata\u001b[0m\u001b[0;34m:\u001b[0m  \u001b[0;31m# Platform-specific: Buggy versions of Python.\u001b[0m\u001b[0;34m\u001b[0m\u001b[0;34m\u001b[0m\u001b[0m\n\u001b[1;32m    386\u001b[0m                     \u001b[0;31m# Close the connection when no data is returned\u001b[0m\u001b[0;34m\u001b[0m\u001b[0;34m\u001b[0m\u001b[0;34m\u001b[0m\u001b[0m\n",
            "\u001b[0;32m/usr/lib/python3.6/http/client.py\u001b[0m in \u001b[0;36mread\u001b[0;34m(self, amt)\u001b[0m\n\u001b[1;32m    447\u001b[0m             \u001b[0;31m# Amount is given, implement using readinto\u001b[0m\u001b[0;34m\u001b[0m\u001b[0;34m\u001b[0m\u001b[0;34m\u001b[0m\u001b[0m\n\u001b[1;32m    448\u001b[0m             \u001b[0mb\u001b[0m \u001b[0;34m=\u001b[0m \u001b[0mbytearray\u001b[0m\u001b[0;34m(\u001b[0m\u001b[0mamt\u001b[0m\u001b[0;34m)\u001b[0m\u001b[0;34m\u001b[0m\u001b[0;34m\u001b[0m\u001b[0m\n\u001b[0;32m--> 449\u001b[0;31m             \u001b[0mn\u001b[0m \u001b[0;34m=\u001b[0m \u001b[0mself\u001b[0m\u001b[0;34m.\u001b[0m\u001b[0mreadinto\u001b[0m\u001b[0;34m(\u001b[0m\u001b[0mb\u001b[0m\u001b[0;34m)\u001b[0m\u001b[0;34m\u001b[0m\u001b[0;34m\u001b[0m\u001b[0m\n\u001b[0m\u001b[1;32m    450\u001b[0m             \u001b[0;32mreturn\u001b[0m \u001b[0mmemoryview\u001b[0m\u001b[0;34m(\u001b[0m\u001b[0mb\u001b[0m\u001b[0;34m)\u001b[0m\u001b[0;34m[\u001b[0m\u001b[0;34m:\u001b[0m\u001b[0mn\u001b[0m\u001b[0;34m]\u001b[0m\u001b[0;34m.\u001b[0m\u001b[0mtobytes\u001b[0m\u001b[0;34m(\u001b[0m\u001b[0;34m)\u001b[0m\u001b[0;34m\u001b[0m\u001b[0;34m\u001b[0m\u001b[0m\n\u001b[1;32m    451\u001b[0m         \u001b[0;32melse\u001b[0m\u001b[0;34m:\u001b[0m\u001b[0;34m\u001b[0m\u001b[0;34m\u001b[0m\u001b[0m\n",
            "\u001b[0;32m/usr/lib/python3.6/http/client.py\u001b[0m in \u001b[0;36mreadinto\u001b[0;34m(self, b)\u001b[0m\n\u001b[1;32m    491\u001b[0m         \u001b[0;31m# connection, and the user is reading more bytes than will be provided\u001b[0m\u001b[0;34m\u001b[0m\u001b[0;34m\u001b[0m\u001b[0;34m\u001b[0m\u001b[0m\n\u001b[1;32m    492\u001b[0m         \u001b[0;31m# (for example, reading in 1k chunks)\u001b[0m\u001b[0;34m\u001b[0m\u001b[0;34m\u001b[0m\u001b[0;34m\u001b[0m\u001b[0m\n\u001b[0;32m--> 493\u001b[0;31m         \u001b[0mn\u001b[0m \u001b[0;34m=\u001b[0m \u001b[0mself\u001b[0m\u001b[0;34m.\u001b[0m\u001b[0mfp\u001b[0m\u001b[0;34m.\u001b[0m\u001b[0mreadinto\u001b[0m\u001b[0;34m(\u001b[0m\u001b[0mb\u001b[0m\u001b[0;34m)\u001b[0m\u001b[0;34m\u001b[0m\u001b[0;34m\u001b[0m\u001b[0m\n\u001b[0m\u001b[1;32m    494\u001b[0m         \u001b[0;32mif\u001b[0m \u001b[0;32mnot\u001b[0m \u001b[0mn\u001b[0m \u001b[0;32mand\u001b[0m \u001b[0mb\u001b[0m\u001b[0;34m:\u001b[0m\u001b[0;34m\u001b[0m\u001b[0;34m\u001b[0m\u001b[0m\n\u001b[1;32m    495\u001b[0m             \u001b[0;31m# Ideally, we would raise IncompleteRead if the content-length\u001b[0m\u001b[0;34m\u001b[0m\u001b[0;34m\u001b[0m\u001b[0;34m\u001b[0m\u001b[0m\n",
            "\u001b[0;32m/usr/lib/python3.6/socket.py\u001b[0m in \u001b[0;36mreadinto\u001b[0;34m(self, b)\u001b[0m\n\u001b[1;32m    584\u001b[0m         \u001b[0;32mwhile\u001b[0m \u001b[0;32mTrue\u001b[0m\u001b[0;34m:\u001b[0m\u001b[0;34m\u001b[0m\u001b[0;34m\u001b[0m\u001b[0m\n\u001b[1;32m    585\u001b[0m             \u001b[0;32mtry\u001b[0m\u001b[0;34m:\u001b[0m\u001b[0;34m\u001b[0m\u001b[0;34m\u001b[0m\u001b[0m\n\u001b[0;32m--> 586\u001b[0;31m                 \u001b[0;32mreturn\u001b[0m \u001b[0mself\u001b[0m\u001b[0;34m.\u001b[0m\u001b[0m_sock\u001b[0m\u001b[0;34m.\u001b[0m\u001b[0mrecv_into\u001b[0m\u001b[0;34m(\u001b[0m\u001b[0mb\u001b[0m\u001b[0;34m)\u001b[0m\u001b[0;34m\u001b[0m\u001b[0;34m\u001b[0m\u001b[0m\n\u001b[0m\u001b[1;32m    587\u001b[0m             \u001b[0;32mexcept\u001b[0m \u001b[0mtimeout\u001b[0m\u001b[0;34m:\u001b[0m\u001b[0;34m\u001b[0m\u001b[0;34m\u001b[0m\u001b[0m\n\u001b[1;32m    588\u001b[0m                 \u001b[0mself\u001b[0m\u001b[0;34m.\u001b[0m\u001b[0m_timeout_occurred\u001b[0m \u001b[0;34m=\u001b[0m \u001b[0;32mTrue\u001b[0m\u001b[0;34m\u001b[0m\u001b[0;34m\u001b[0m\u001b[0m\n",
            "\u001b[0;31mKeyboardInterrupt\u001b[0m: "
          ]
        }
      ]
    },
    {
      "metadata": {
        "id": "Zz7YGQZ0QJOG",
        "colab_type": "code",
        "colab": {
          "base_uri": "https://localhost:8080/",
          "height": 34
        },
        "outputId": "975c4a95-ccd7-4228-a674-94f129189ea6"
      },
      "cell_type": "code",
      "source": [
        "!ls"
      ],
      "execution_count": 11,
      "outputs": [
        {
          "output_type": "stream",
          "text": [
            "sample_data  test.txt  Yue-10k.txt\n"
          ],
          "name": "stdout"
        }
      ]
    },
    {
      "metadata": {
        "id": "BMHM2_6gQeI_",
        "colab_type": "code",
        "colab": {
          "base_uri": "https://localhost:8080/",
          "height": 1410
        },
        "outputId": "c2510bb7-643e-4f41-b0e9-98135541b94e"
      },
      "cell_type": "code",
      "source": [
        "!cat Yue-10k.txt"
      ],
      "execution_count": 12,
      "outputs": [
        {
          "output_type": "stream",
          "text": [
            "{\"applySn\": \"粤G妆网备字2018100003\", \"applySnTT\": \"\", \"apply_enter_address\": \"\", \"enterpriseName\": \"广州雪雅化妆品有限公司\", \"enterpriseNameTT\": \"\", \"is_off\": \"N\", \"newProcessid\": \"20180614155353prg27\", \"off_date\": \"\", \"org_name\": \"\", \"processid\": \"20180614155353prg27\", \"productName\": \"宜凌青春活力套-紧致霜\", \"productNameTT\": \"\", \"provinceConfirm\": \"2018-07-27\"}\n",
            "{\"applySn\": \"粤G妆网备字2018100009\", \"applySnTT\": \"\", \"apply_enter_address\": \"\", \"enterpriseName\": \"广州市白云采妮化妆品厂\", \"enterpriseNameTT\": \"\", \"is_off\": \"N\", \"newProcessid\": \"201806220936428r2au\", \"off_date\": \"\", \"org_name\": \"\", \"processid\": \"201806220936428r2au\", \"productName\": \"柔芙美驻颜精华面膜\", \"productNameTT\": \"\", \"provinceConfirm\": \"2018-07-23\"}\n",
            "{\"applySn\": \"粤G妆网备字2018100008\", \"applySnTT\": \"\", \"apply_enter_address\": \"\", \"enterpriseName\": \"广州天香生物科技有限公司\", \"enterpriseNameTT\": \"\", \"is_off\": \"N\", \"newProcessid\": \"201806141515240j33t\", \"off_date\": \"\", \"org_name\": \"\", \"processid\": \"201806141515240j33t\", \"productName\": \"凯膜 绿豆原液蚕丝面膜\", \"productNameTT\": \"\", \"provinceConfirm\": \"2018-07-21\"}\n",
            "{\"applySn\": \"粤G妆网备字2018100005\", \"applySnTT\": \"\", \"apply_enter_address\": \"\", \"enterpriseName\": \"广州肽好生物科技有限公司\", \"enterpriseNameTT\": \"\", \"is_off\": \"N\", \"newProcessid\": \"20180625093456cwteg\", \"off_date\": \"\", \"org_name\": \"\", \"processid\": \"20180625093456cwteg\", \"productName\": \"YILIBES原液修护面膜\", \"productNameTT\": \"\", \"provinceConfirm\": \"2018-07-21\"}\n",
            "{\"applySn\": \"粤G妆网备字2018100000\", \"applySnTT\": \"\", \"apply_enter_address\": \"\", \"enterpriseName\": \"广州市东辉化妆品有限公司\", \"enterpriseNameTT\": \"\", \"is_off\": \"N\", \"newProcessid\": \"20180611151204bvepp\", \"off_date\": \"\", \"org_name\": \"\", \"processid\": \"20180611151204bvepp\", \"productName\": \"林草芊氨基酸多效洗发乳\", \"productNameTT\": \"\", \"provinceConfirm\": \"2018-07-16\"}\n",
            "{\"applySn\": \"粤G妆网备字2018100008\", \"applySnTT\": \"\", \"apply_enter_address\": \"\", \"enterpriseName\": \"广州宾丽化妆品有限公司\", \"enterpriseNameTT\": \"\", \"is_off\": \"N\", \"newProcessid\": \"201806141515240j33t\", \"off_date\": \"\", \"org_name\": \"\", \"processid\": \"201806141515240j33t\", \"productName\": \"凯膜 绿豆原液蚕丝面膜\", \"productNameTT\": \"\", \"provinceConfirm\": \"2018-07-07\"}\n",
            "{\"applySn\": \"粤G妆网备字2018100003\", \"applySnTT\": \"\", \"apply_enter_address\": \"\", \"enterpriseName\": \"广州美易康生物科技有限公司\", \"enterpriseNameTT\": \"\", \"is_off\": \"N\", \"newProcessid\": \"20180614155353prg27\", \"off_date\": \"\", \"org_name\": \"\", \"processid\": \"20180614155353prg27\", \"productName\": \"宜凌青春活力套-紧致霜\", \"productNameTT\": \"\", \"provinceConfirm\": \"2018-07-07\"}\n",
            "{\"applySn\": \"粤G妆网备字2018100002\", \"applySnTT\": \"\", \"apply_enter_address\": \"\", \"enterpriseName\": \"广州市金日精细化工有限公司\", \"enterpriseNameTT\": \"\", \"is_off\": \"N\", \"newProcessid\": \"20180615135700bs63n\", \"off_date\": \"\", \"org_name\": \"\", \"processid\": \"20180615135700bs63n\", \"productName\": \"金宫兰水光雪颜亮肤膜粉\", \"productNameTT\": \"\", \"provinceConfirm\": \"2018-07-07\"}\n",
            "{\"applySn\": \"粤G妆网备字2018100000\", \"applySnTT\": \"\", \"apply_enter_address\": \"\", \"enterpriseName\": \"彩蓝（广州）生物科技有限公司\", \"enterpriseNameTT\": \"\", \"is_off\": \"N\", \"newProcessid\": \"20180611151204bvepp\", \"off_date\": \"\", \"org_name\": \"\", \"processid\": \"20180611151204bvepp\", \"productName\": \"林草芊氨基酸多效洗发乳\", \"productNameTT\": \"\", \"provinceConfirm\": \"2018-07-07\"}\n",
            "{\"applySn\": \"粤G妆网备字2018100009\", \"applySnTT\": \"\", \"apply_enter_address\": \"\", \"enterpriseName\": \"广州昊星生物科技发展有限公司\", \"enterpriseNameTT\": \"\", \"is_off\": \"N\", \"newProcessid\": \"201806220936428r2au\", \"off_date\": \"\", \"org_name\": \"\", \"processid\": \"201806220936428r2au\", \"productName\": \"柔芙美驻颜精华面膜\", \"productNameTT\": \"\", \"provinceConfirm\": \"2018-07-07\"}\n",
            "{\"applySn\": \"粤G妆网备字2018100006\", \"applySnTT\": \"\", \"apply_enter_address\": \"\", \"enterpriseName\": \"广州好润生物科技有限公司\", \"enterpriseNameTT\": \"\", \"is_off\": \"N\", \"newProcessid\": \"201806231049064bxac\", \"off_date\": \"\", \"org_name\": \"\", \"processid\": \"201806231049064bxac\", \"productName\": \"Adore Momi爱迪妈咪倾慕花萃凝肌焕颜面膜\", \"productNameTT\": \"\", \"provinceConfirm\": \"2018-07-07\"}\n",
            "{\"applySn\": \"粤G妆网备字2018100001\", \"applySnTT\": \"\", \"apply_enter_address\": \"\", \"enterpriseName\": \"广州好润生物科技有限公司\", \"enterpriseNameTT\": \"\", \"is_off\": \"N\", \"newProcessid\": \"20180623105348kjzwt\", \"off_date\": \"\", \"org_name\": \"\", \"processid\": \"20180623105348kjzwt\", \"productName\": \"Adore Momi爱迪妈咪倾慕植萃醇润纤妍面膜\", \"productNameTT\": \"\", \"provinceConfirm\": \"2018-07-07\"}\n",
            "{\"applySn\": \"粤G妆网备字2018100004\", \"applySnTT\": \"\", \"apply_enter_address\": \"\", \"enterpriseName\": \"广州科缇生物科技有限公司\", \"enterpriseNameTT\": \"\", \"is_off\": \"N\", \"newProcessid\": \"20180625104238uza9n\", \"off_date\": \"\", \"org_name\": \"\", \"processid\": \"20180625104238uza9n\", \"productName\": \"葛雷蒂凝时驻颜精华原液\", \"productNameTT\": \"\", \"provinceConfirm\": \"2018-07-07\"}\n",
            "{\"applySn\": \"粤G妆网备字2018100007\", \"applySnTT\": \"\", \"apply_enter_address\": \"\", \"enterpriseName\": \"广东芭薇生物科技股份有限公司\", \"enterpriseNameTT\": \"\", \"is_off\": \"N\", \"newProcessid\": \"20180625105927hddda\", \"off_date\": \"\", \"org_name\": \"\", \"processid\": \"20180625105927hddda\", \"productName\": \"柏卡姿玻尿酸精华原液\", \"productNameTT\": \"\", \"provinceConfirm\": \"2018-07-07\"}\n",
            "{\"applySn\": \"粤G妆网备字2018100005\", \"applySnTT\": \"\", \"apply_enter_address\": \"\", \"enterpriseName\": \"广州梵星生物科技有限公司\", \"enterpriseNameTT\": \"\", \"is_off\": \"N\", \"newProcessid\": \"20180625093456cwteg\", \"off_date\": \"\", \"org_name\": \"\", \"processid\": \"20180625093456cwteg\", \"productName\": \"YILIBES原液修护面膜\", \"productNameTT\": \"\", \"provinceConfirm\": \"2018-07-07\"}\n",
            "{\"applySn\": \"粤G妆网备字2018100010\", \"applySnTT\": \"\", \"apply_enter_address\": \"\", \"enterpriseName\": \"广州品赫化妆品有限公司\", \"enterpriseNameTT\": \"\", \"is_off\": \"N\", \"newProcessid\": \"20180605163920txi71\", \"off_date\": \"\", \"org_name\": \"\", \"processid\": \"20180605163920txi71\", \"productName\": \"My Everything蜜蜜淳彩蜜滢亮唇釉309\", \"productNameTT\": \"\", \"provinceConfirm\": \"2018-08-22\"}\n",
            "{\"applySn\": \"粤G妆网备字2018100017\", \"applySnTT\": \"\", \"apply_enter_address\": \"\", \"enterpriseName\": \"广州品赫化妆品有限公司\", \"enterpriseNameTT\": \"\", \"is_off\": \"N\", \"newProcessid\": \"20180605170853fuh6b\", \"off_date\": \"\", \"org_name\": \"\", \"processid\": \"20180605170853fuh6b\", \"productName\": \"My Everything蜜蜜淳彩蜜滢亮唇釉209\", \"productNameTT\": \"\", \"provinceConfirm\": \"2018-08-22\"}\n",
            "{\"applySn\": \"粤G妆网备字2018100016\", \"applySnTT\": \"\", \"apply_enter_address\": \"\", \"enterpriseName\": \"广州市千邦化妆品有限公司\", \"enterpriseNameTT\": \"\", \"is_off\": \"N\", \"newProcessid\": \"20180723114123b00e7\", \"off_date\": \"\", \"org_name\": \"\", \"processid\": \"20180723114123b00e7\", \"productName\": \"FANZIU梵姿妤温养磁睛奢宠套 眼唇舒缓露\", \"productNameTT\": \"\", \"provinceConfirm\": \"2018-07-31\"}\n",
            "{\"applySn\": \"粤G妆网备字2018100016\", \"applySnTT\": \"\", \"apply_enter_address\": \"\", \"enterpriseName\": \"广州蓝天生物科技有限公司\", \"enterpriseNameTT\": \"\", \"is_off\": \"N\", \"newProcessid\": \"20180723114123b00e7\", \"off_date\": \"\", \"org_name\": \"\", \"processid\": \"20180723114123b00e7\", \"productName\": \"FANZIU梵姿妤温养磁睛奢宠套 眼唇舒缓露\", \"productNameTT\": \"\", \"provinceConfirm\": \"2018-07-24\"}\n",
            "{\"applySn\": \"粤G妆网备字2018100018\", \"applySnTT\": \"\", \"apply_enter_address\": \"\", \"enterpriseName\": \"广州重生化妆品实业有限公司\", \"enterpriseNameTT\": \"\", \"is_off\": \"N\", \"newProcessid\": \"20180523174923pk510\", \"off_date\": \"\", \"org_name\": \"\", \"processid\": \"20180523174923pk510\", \"productName\": \"秘密皇后温养暖护调理套-臀部按摩精油\", \"productNameTT\": \"\", \"provinceConfirm\": \"2018-07-21\"}\n",
            "{\"applySn\": \"粤G妆网备字2018100014\", \"applySnTT\": \"\", \"apply_enter_address\": \"\", \"enterpriseName\": \"广州市益体健生物工程有限公司\", \"enterpriseNameTT\": \"\", \"is_off\": \"N\", \"newProcessid\": \"20180625164647c4yqf\", \"off_date\": \"\", \"org_name\": \"\", \"processid\": \"20180625164647c4yqf\", \"productName\": \"粉红乐园 pink PARK 哑光丝绒唇釉（V01）\", \"productNameTT\": \"\", \"provinceConfirm\": \"2018-07-21\"}\n",
            "{\"applySn\": \"粤G妆网备字2018100019\", \"applySnTT\": \"\", \"apply_enter_address\": \"\", \"enterpriseName\": \"广州重生化妆品实业有限公司\", \"enterpriseNameTT\": \"\", \"is_off\": \"N\", \"newProcessid\": \"20180523175234xc9yv\", \"off_date\": \"\", \"org_name\": \"\", \"processid\": \"20180523175234xc9yv\", \"productName\": \"秘密皇后温养暖护调理套-温养舒活调理精油\", \"productNameTT\": \"\", \"provinceConfirm\": \"2018-07-21\"}\n",
            "{\"applySn\": \"粤G妆网备字2018100011\", \"applySnTT\": \"\", \"apply_enter_address\": \"\", \"enterpriseName\": \"广州市金栢丽保健品有限公司\", \"enterpriseNameTT\": \"\", \"is_off\": \"N\", \"newProcessid\": \"20180615190851wda5c\", \"off_date\": \"\", \"org_name\": \"\", \"processid\": \"20180615190851wda5c\", \"productName\": \"康婕妤雪颜靓肤隔离乳\", \"productNameTT\": \"\", \"provinceConfirm\": \"2018-07-18\"}\n",
            "{\"applySn\": \"粤G妆网备字2018100013\", \"applySnTT\": \"\", \"apply_enter_address\": \"\", \"enterpriseName\": \"广州铭凯化妆品有限公司\", \"enterpriseNameTT\": \"\", \"is_off\": \"Y\", \"newProcessid\": \"201804221243340pwyp\", \"off_date\": \"\", \"org_name\": \"\", \"processid\": \"201804221243340pwyp\", \"productName\": \"采萃芦荟祛黑头凝露\", \"productNameTT\": \"\", \"provinceConfirm\": \"2018-07-07\"}\n",
            "{\"applySn\": \"粤G妆网备字2018100017\", \"applySnTT\": \"\", \"apply_enter_address\": \"\", \"enterpriseName\": \"广州贵有日用品有限公司\", \"enterpriseNameTT\": \"\", \"is_off\": \"N\", \"newProcessid\": \"20180605170853fuh6b\", \"off_date\": \"\", \"org_name\": \"\", \"processid\": \"20180605170853fuh6b\", \"productName\": \"My Everything蜜蜜淳彩蜜滢亮唇釉209\", \"productNameTT\": \"\", \"provinceConfirm\": \"2018-07-07\"}\n",
            "{\"applySn\": \"粤G妆网备字2018100018\", \"applySnTT\": \"\", \"apply_enter_address\": \"\", \"enterpriseName\": \"广州亿尚美生物科技有限公司\", \"enterpriseNameTT\": \"\", \"is_off\": \"N\", \"newProcessid\": \"20180523174923pk510\", \"off_date\": \"\", \"org_name\": \"\", \"processid\": \"20180523174923pk510\", \"productName\": \"秘密皇后温养暖护调理套-臀部按摩精油\", \"productNameTT\": \"\", \"provinceConfirm\": \"2018-07-07\"}\n",
            "{\"applySn\": \"粤G妆网备字2018100019\", \"applySnTT\": \"\", \"apply_enter_address\": \"\", \"enterpriseName\": \"广州亿尚美生物科技有限公司\", \"enterpriseNameTT\": \"\", \"is_off\": \"N\", \"newProcessid\": \"20180523175234xc9yv\", \"off_date\": \"\", \"org_name\": \"\", \"processid\": \"20180523175234xc9yv\", \"productName\": \"秘密皇后温养暖护调理套-温养舒活调理精油\", \"productNameTT\": \"\", \"provinceConfirm\": \"2018-07-07\"}\n",
            "{\"applySn\": \"粤G妆网备字2018100015\", \"applySnTT\": \"\", \"apply_enter_address\": \"\", \"enterpriseName\": \"广州荥美生物科技有限公司\", \"enterpriseNameTT\": \"\", \"is_off\": \"N\", \"newProcessid\": \"20180625101228kc5n5\", \"off_date\": \"\", \"org_name\": \"\", \"processid\": \"20180625101228kc5n5\", \"productName\": \"青妆秀泉润玻尿酸原液\", \"productNameTT\": \"\", \"provinceConfirm\": \"2018-07-07\"}\n",
            "{\"applySn\": \"粤G妆网备字2018100012\", \"applySnTT\": \"\", \"apply_enter_address\": \"\", \"enterpriseName\": \"广州有美化妆品有限公司\", \"enterpriseNameTT\": \"\", \"is_off\": \"N\", \"newProcessid\": \"20180625103726desp4\", \"off_date\": \"\", \"org_name\": \"\", \"processid\": \"20180625103726desp4\", \"productName\": \"张玉金 清爽润肤乳液\", \"productNameTT\": \"\", \"provinceConfirm\": \"2018-07-07\"}\n",
            "{\"applySn\": \"粤G妆网备字2018100014\", \"applySnTT\": \"\", \"apply_enter_address\": \"\", \"enterpriseName\": \"广州市美诗嘉莉化妆品有限公司\", \"enterpriseNameTT\": \"\", \"is_off\": \"N\", \"newProcessid\": \"20180625164647c4yqf\", \"off_date\": \"\", \"org_name\": \"\", \"processid\": \"20180625164647c4yqf\", \"productName\": \"粉红乐园 pink PARK 哑光丝绒唇釉（V01）\", \"productNameTT\": \"\", \"provinceConfirm\": \"2018-07-07\"}\n",
            "{\"applySn\": \"粤G妆网备字2018100012\", \"applySnTT\": \"\", \"apply_enter_address\": \"\", \"enterpriseName\": \"广州有美化妆品有限公司\", \"enterpriseNameTT\": \"\", \"is_off\": \"N\", \"newProcessid\": \"20180625103726desp4\", \"off_date\": \"\", \"org_name\": \"\", \"processid\": \"20180625103726desp4\", \"productName\": \"张玉金 清爽润肤乳液\", \"productNameTT\": \"\", \"provinceConfirm\": \"2018-07-07\"}\n",
            "{\"applySn\": \"粤G妆网备字2018100014\", \"applySnTT\": \"\", \"apply_enter_address\": \"\", \"enterpriseName\": \"广州市美诗嘉莉化妆品有限公司\", \"enterpriseNameTT\": \"\", \"is_off\": \"N\", \"newProcessid\": \"20180625164647c4yqf\", \"off_date\": \"\", \"org_name\": \"\", \"processid\": \"20180625164647c4yqf\", \"productName\": \"粉红乐园 pink PARK 哑光丝绒唇釉（V01）\", \"productNameTT\": \"\", \"provinceConfirm\": \"2018-07-07\"}\n",
            "{\"applySn\": \"粤G妆网备字2018100021\", \"applySnTT\": \"\", \"apply_enter_address\": \"\", \"enterpriseName\": \"广州彤姿生物科技有限公司\", \"enterpriseNameTT\": \"\", \"is_off\": \"N\", \"newProcessid\": \"201806251441070tz31\", \"off_date\": \"\", \"org_name\": \"\", \"processid\": \"201806251441070tz31\", \"productName\": \"润宣 臻致漆光锁色唇釉F06枫叶红\", \"productNameTT\": \"\", \"provinceConfirm\": \"2018-08-23\"}\n",
            "{\"applySn\": \"粤G妆网备字2018100022\", \"applySnTT\": \"\", \"apply_enter_address\": \"\", \"enterpriseName\": \"广州品赫化妆品有限公司\", \"enterpriseNameTT\": \"\", \"is_off\": \"N\", \"newProcessid\": \"20180605171437ycdwf\", \"off_date\": \"\", \"org_name\": \"\", \"processid\": \"20180605171437ycdwf\", \"productName\": \"My Everything蜜蜜淳彩蜜滢亮唇釉310\", \"productNameTT\": \"\", \"provinceConfirm\": \"2018-08-22\"}\n",
            "{\"applySn\": \"粤G妆网备字2018100023\", \"applySnTT\": \"\", \"apply_enter_address\": \"\", \"enterpriseName\": \"广州市传祺天然化妆品制造有限公司\", \"enterpriseNameTT\": \"\", \"is_off\": \"N\", \"newProcessid\": \"20180607115002x4x55\", \"off_date\": \"\", \"org_name\": \"\", \"processid\": \"20180607115002x4x55\", \"productName\": \"苗家七草寡肽美肌多效面膜三部曲-酵母泡泡洁颜乳\", \"productNameTT\": \"\", \"provinceConfirm\": \"2018-07-21\"}\n",
            "{\"applySn\": \"粤G妆网备字2018100024\", \"applySnTT\": \"\", \"apply_enter_address\": \"\", \"enterpriseName\": \"广州市萌美生物科技有限公司\", \"enterpriseNameTT\": \"\", \"is_off\": \"N\", \"newProcessid\": \"201805311624071ipew\", \"off_date\": \"\", \"org_name\": \"\", \"processid\": \"201805311624071ipew\", \"productName\": \"玛蕾-多肽逆龄线雕肌底冻干粉+多肽逆龄线雕肌底修护原液\", \"productNameTT\": \"\", \"provinceConfirm\": \"2018-07-21\"}\n",
            "{\"applySn\": \"粤G妆网备字2018100027\", \"applySnTT\": \"\", \"apply_enter_address\": \"\", \"enterpriseName\": \"广州药妆日用化工有限公司\", \"enterpriseNameTT\": \"\", \"is_off\": \"N\", \"newProcessid\": \"20180622174139zb99o\", \"off_date\": \"\", \"org_name\": \"\", \"processid\": \"20180622174139zb99o\", \"productName\": \"YEJAR&ecirc;N私人定制洁面乳\", \"productNameTT\": \"\", \"provinceConfirm\": \"2018-07-18\"}\n",
            "{\"applySn\": \"粤G妆网备字2018100025\", \"applySnTT\": \"\", \"apply_enter_address\": \"\", \"enterpriseName\": \"广州市花姬赏生物科技有限公司\", \"enterpriseNameTT\": \"\", \"is_off\": \"N\", \"newProcessid\": \"2017122709145545ct9\", \"off_date\": \"\", \"org_name\": \"\", \"processid\": \"2017122709145545ct9\", \"productName\": \"悦泊颜YUEBOYAN 安颜舒缓精华原液\", \"productNameTT\": \"\", \"provinceConfirm\": \"2018-07-07\"}\n",
            "{\"applySn\": \"粤G妆网备字2018100020\", \"applySnTT\": \"\", \"apply_enter_address\": \"\", \"enterpriseName\": \"广州雅升化妆品有限公司\", \"enterpriseNameTT\": \"\", \"is_off\": \"Y\", \"newProcessid\": \"20180614092717zfu8g\", \"off_date\": \"\", \"org_name\": \"\", \"processid\": \"20180614092717zfu8g\", \"productName\": \"研春堂玻尿酸保湿原液\", \"productNameTT\": \"\", \"provinceConfirm\": \"2018-07-07\"}\n",
            "{\"applySn\": \"粤G妆网备字2018100028\", \"applySnTT\": \"\", \"apply_enter_address\": \"\", \"enterpriseName\": \"广州阿蔓尼生物科技有限公司\", \"enterpriseNameTT\": \"\", \"is_off\": \"N\", \"newProcessid\": \"20180616085543y627f\", \"off_date\": \"\", \"org_name\": \"\", \"processid\": \"20180616085543y627f\", \"productName\": \"贺彩 植物护发养发洗发露\", \"productNameTT\": \"\", \"provinceConfirm\": \"2018-07-07\"}\n",
            "{\"applySn\": \"粤G妆网备字2018100023\", \"applySnTT\": \"\", \"apply_enter_address\": \"\", \"enterpriseName\": \"广州韩草萱生物科技有限公司\", \"enterpriseNameTT\": \"\", \"is_off\": \"N\", \"newProcessid\": \"20180607115002x4x55\", \"off_date\": \"\", \"org_name\": \"\", \"processid\": \"20180607115002x4x55\", \"productName\": \"苗家七草寡肽美肌多效面膜三部曲-酵母泡泡洁颜乳\", \"productNameTT\": \"\", \"provinceConfirm\": \"2018-07-07\"}\n",
            "{\"applySn\": \"粤G妆网备字2018100024\", \"applySnTT\": \"\", \"apply_enter_address\": \"\", \"enterpriseName\": \"广州宝莳婕生物科技有限公司\", \"enterpriseNameTT\": \"\", \"is_off\": \"N\", \"newProcessid\": \"201805311624071ipew\", \"off_date\": \"\", \"org_name\": \"\", \"processid\": \"201805311624071ipew\", \"productName\": \"玛蕾-多肽逆龄线雕肌底冻干粉+多肽逆龄线雕肌底修护原液\", \"productNameTT\": \"\", \"provinceConfirm\": \"2018-07-07\"}\n",
            "{\"applySn\": \"粤G妆网备字2018100022\", \"applySnTT\": \"\", \"apply_enter_address\": \"\", \"enterpriseName\": \"广州贵有日用品有限公司\", \"enterpriseNameTT\": \"\", \"is_off\": \"N\", \"newProcessid\": \"20180605171437ycdwf\", \"off_date\": \"\", \"org_name\": \"\", \"processid\": \"20180605171437ycdwf\", \"productName\": \"My Everything蜜蜜淳彩蜜滢亮唇釉310\", \"productNameTT\": \"\", \"provinceConfirm\": \"2018-07-07\"}\n",
            "{\"applySn\": \"粤G妆网备字2018100027\", \"applySnTT\": \"\", \"apply_enter_address\": \"\", \"enterpriseName\": \"广州中要生物科技有限公司\", \"enterpriseNameTT\": \"\", \"is_off\": \"N\", \"newProcessid\": \"20180622174139zb99o\", \"off_date\": \"\", \"org_name\": \"\", \"processid\": \"20180622174139zb99o\", \"productName\": \"YEJAR&ecirc;N私人定制洁面乳\", \"productNameTT\": \"\", \"provinceConfirm\": \"2018-07-07\"}\n",
            "{\"applySn\": \"粤G妆网备字2018100029\", \"applySnTT\": \"\", \"apply_enter_address\": \"\", \"enterpriseName\": \"广州雨蝶化妆品有限公司\", \"enterpriseNameTT\": \"\", \"is_off\": \"N\", \"newProcessid\": \"20180625095213gz52y\", \"off_date\": \"\", \"org_name\": \"\", \"processid\": \"20180625095213gz52y\", \"productName\": \"邂逅佳人 雪肌靓肤面膜\", \"productNameTT\": \"\", \"provinceConfirm\": \"2018-07-07\"}\n",
            "{\"applySn\": \"粤G妆网备字2018100021\", \"applySnTT\": \"\", \"apply_enter_address\": \"\", \"enterpriseName\": \"广州润宣化妆品有限公司\", \"enterpriseNameTT\": \"\", \"is_off\": \"N\", \"newProcessid\": \"201806251441070tz31\", \"off_date\": \"\", \"org_name\": \"\", \"processid\": \"201806251441070tz31\", \"productName\": \"润宣 臻致漆光锁色唇釉F06枫叶红\", \"productNameTT\": \"\", \"provinceConfirm\": \"2018-07-07\"}\n",
            "{\"applySn\": \"粤G妆网备字2018100026\", \"applySnTT\": \"\", \"apply_enter_address\": \"\", \"enterpriseName\": \"广州慈康生物科技有限公司\", \"enterpriseNameTT\": \"\", \"is_off\": \"N\", \"newProcessid\": \"2018062508570891iba\", \"off_date\": \"\", \"org_name\": \"\", \"processid\": \"2018062508570891iba\", \"productName\": \"ZHEYLSIYL瓷熙清透焕彩滋养面膜\", \"productNameTT\": \"\", \"provinceConfirm\": \"2018-07-07\"}\n",
            "{\"applySn\": \"粤G妆网备字2018100031\", \"applySnTT\": \"\", \"apply_enter_address\": \"\", \"enterpriseName\": \"广州市索柔生物科技有限公司\", \"enterpriseNameTT\": \"\", \"is_off\": \"N\", \"newProcessid\": \"20180625143136cidaj\", \"off_date\": \"\", \"org_name\": \"\", \"processid\": \"20180625143136cidaj\", \"productName\": \"鲜女  绿茶净透洁面乳\", \"productNameTT\": \"\", \"provinceConfirm\": \"2018-07-21\"}\n",
            "{\"applySn\": \"粤G妆网备字2018100033\", \"applySnTT\": \"\", \"apply_enter_address\": \"\", \"enterpriseName\": \"广州市纯雅化妆品有限公司\", \"enterpriseNameTT\": \"\", \"is_off\": \"N\", \"newProcessid\": \"20180625172532yvj2b\", \"off_date\": \"\", \"org_name\": \"\", \"processid\": \"20180625172532yvj2b\", \"productName\": \"蔻静镜面玻璃唇釉 101#南瓜色\", \"productNameTT\": \"\", \"provinceConfirm\": \"2018-07-16\"}\n",
            "{\"applySn\": \"粤G妆网备字2018100032\", \"applySnTT\": \"\", \"apply_enter_address\": \"\", \"enterpriseName\": \"广州哚哚化妆品有限公司\", \"enterpriseNameTT\": \"\", \"is_off\": \"N\", \"newProcessid\": \"20180604181051t9b7a\", \"off_date\": \"\", \"org_name\": \"\", \"processid\": \"20180604181051t9b7a\", \"productName\": \"奢羽肽水润唇釉口红\", \"productNameTT\": \"\", \"provinceConfirm\": \"2018-07-14\"}\n",
            "{\"applySn\": \"粤G妆网备字2018100038\", \"applySnTT\": \"\", \"apply_enter_address\": \"\", \"enterpriseName\": \"广州市花姬赏生物科技有限公司\", \"enterpriseNameTT\": \"\", \"is_off\": \"N\", \"newProcessid\": \"20171227105720jggac\", \"off_date\": \"\", \"org_name\": \"\", \"processid\": \"20171227105720jggac\", \"productName\": \"悦泊颜YUEBOYAN 透润蛋白乳\", \"productNameTT\": \"\", \"provinceConfirm\": \"2018-07-07\"}\n",
            "{\"applySn\": \"粤G妆网备字2018100036\", \"applySnTT\": \"\", \"apply_enter_address\": \"\", \"enterpriseName\": \"广州市花姬赏生物科技有限公司\", \"enterpriseNameTT\": \"\", \"is_off\": \"N\", \"newProcessid\": \"20171227094723czb9c\", \"off_date\": \"\", \"org_name\": \"\", \"processid\": \"20171227094723czb9c\", \"productName\": \"悦泊颜YUEBOYAN 蓝铜胜肽修护紧致乳\", \"productNameTT\": \"\", \"provinceConfirm\": \"2018-07-07\"}\n",
            "{\"applySn\": \"粤G妆网备字2018100034\", \"applySnTT\": \"\", \"apply_enter_address\": \"\", \"enterpriseName\": \"广州市蓝采日用化工有限公司\", \"enterpriseNameTT\": \"\", \"is_off\": \"Y\", \"newProcessid\": \"20180522100635adcdg\", \"off_date\": \"\", \"org_name\": \"\", \"processid\": \"20180522100635adcdg\", \"productName\": \"SG3V岁月组合套盒 端粒肽Ⅲ液+胶原蛋白粉Ⅱ\", \"productNameTT\": \"\", \"provinceConfirm\": \"2018-07-07\"}\n",
            "{\"applySn\": \"粤G妆网备字2018100037\", \"applySnTT\": \"\", \"apply_enter_address\": \"\", \"enterpriseName\": \"广州双拾意化妆品有限公司\", \"enterpriseNameTT\": \"\", \"is_off\": \"N\", \"newProcessid\": \"20180616093316wwyo8\", \"off_date\": \"\", \"org_name\": \"\", \"processid\": \"20180616093316wwyo8\", \"productName\": \"QUEENSTORY 玻尿酸水润清透男士面膜\", \"productNameTT\": \"\", \"provinceConfirm\": \"2018-07-07\"}\n",
            "{\"applySn\": \"粤G妆网备字2018100030\", \"applySnTT\": \"\", \"apply_enter_address\": \"\", \"enterpriseName\": \"广州市欧佩化妆品有限公司\", \"enterpriseNameTT\": \"\", \"is_off\": \"N\", \"newProcessid\": \"20180613132824jgf6f\", \"off_date\": \"\", \"org_name\": \"\", \"processid\": \"20180613132824jgf6f\", \"productName\": \"康雪补水紧致面膜\", \"productNameTT\": \"\", \"provinceConfirm\": \"2018-07-07\"}\n",
            "{\"applySn\": \"粤G妆网备字2018100032\", \"applySnTT\": \"\", \"apply_enter_address\": \"\", \"enterpriseName\": \"广州颜伊生物科技有限公司\", \"enterpriseNameTT\": \"\", \"is_off\": \"N\", \"newProcessid\": \"20180604181051t9b7a\", \"off_date\": \"\", \"org_name\": \"\", \"processid\": \"20180604181051t9b7a\", \"productName\": \"奢羽肽水润唇釉口红\", \"productNameTT\": \"\", \"provinceConfirm\": \"2018-07-07\"}\n",
            "{\"applySn\": \"粤G妆网备字2018100039\", \"applySnTT\": \"\", \"apply_enter_address\": \"\", \"enterpriseName\": \"广州德谷个人护理用品有限公司\", \"enterpriseNameTT\": \"\", \"is_off\": \"N\", \"newProcessid\": \"20180622112919otw9t\", \"off_date\": \"\", \"org_name\": \"\", \"processid\": \"20180622112919otw9t\", \"productName\": \"阿道夫精油焗润发膜（免蒸型）\", \"productNameTT\": \"\", \"provinceConfirm\": \"2018-07-07\"}\n",
            "{\"applySn\": \"粤G妆网备字2018100031\", \"applySnTT\": \"\", \"apply_enter_address\": \"\", \"enterpriseName\": \"广州汇妆日用品有限公司\", \"enterpriseNameTT\": \"\", \"is_off\": \"N\", \"newProcessid\": \"20180625143136cidaj\", \"off_date\": \"\", \"org_name\": \"\", \"processid\": \"20180625143136cidaj\", \"productName\": \"鲜女  绿茶净透洁面乳\", \"productNameTT\": \"\", \"provinceConfirm\": \"2018-07-07\"}\n",
            "{\"applySn\": \"粤G妆网备字2018100033\", \"applySnTT\": \"\", \"apply_enter_address\": \"\", \"enterpriseName\": \"广州市卓欧化妆品有限公司\", \"enterpriseNameTT\": \"\", \"is_off\": \"N\", \"newProcessid\": \"20180625172532yvj2b\", \"off_date\": \"\", \"org_name\": \"\", \"processid\": \"20180625172532yvj2b\", \"productName\": \"蔻静镜面玻璃唇釉 101#南瓜色\", \"productNameTT\": \"\", \"provinceConfirm\": \"2018-07-07\"}\n",
            "{\"applySn\": \"粤G妆网备字2018100035\", \"applySnTT\": \"\", \"apply_enter_address\": \"\", \"enterpriseName\": \"广州莎莎生物科技有限公司\", \"enterpriseNameTT\": \"\", \"is_off\": \"N\", \"newProcessid\": \"20180625121950n4xt3\", \"off_date\": \"\", \"org_name\": \"\", \"processid\": \"20180625121950n4xt3\", \"productName\": \"Feiladuo菲拉朵电眼魅力彩妆套盒-电眼魅力眼线笔\", \"productNameTT\": \"\", \"provinceConfirm\": \"2018-07-07\"}\n",
            "{\"applySn\": \"粤G妆网备字2018100043\", \"applySnTT\": \"\", \"apply_enter_address\": \"\", \"enterpriseName\": \"广州博今生物科技有限公司\", \"enterpriseNameTT\": \"\", \"is_off\": \"N\", \"newProcessid\": \"20180821154556z39ut\", \"off_date\": \"\", \"org_name\": \"\", \"processid\": \"20180821154556z39ut\", \"productName\": \"QIANMEI天然美肤补水面膜\", \"productNameTT\": \"\", \"provinceConfirm\": \"2018-09-04\"}\n",
            "{\"applySn\": \"粤G妆网备字2018100047\", \"applySnTT\": \"\", \"apply_enter_address\": \"\", \"enterpriseName\": \"广州九妆化妆品有限公司\", \"enterpriseNameTT\": \"\", \"is_off\": \"N\", \"newProcessid\": \"20180821090814sa6tc\", \"off_date\": \"\", \"org_name\": \"\", \"processid\": \"20180821090814sa6tc\", \"productName\": \"微得露至尊会员套 冻干粉+溶媒\", \"productNameTT\": \"\", \"provinceConfirm\": \"2018-09-01\"}\n",
            "{\"applySn\": \"粤G妆网备字2018100047\", \"applySnTT\": \"\", \"apply_enter_address\": \"\", \"enterpriseName\": \"广州环梦生物科技有限公司\", \"enterpriseNameTT\": \"\", \"is_off\": \"N\", \"newProcessid\": \"20180821090814sa6tc\", \"off_date\": \"\", \"org_name\": \"\", \"processid\": \"20180821090814sa6tc\", \"productName\": \"微得露至尊会员套 冻干粉+溶媒\", \"productNameTT\": \"\", \"provinceConfirm\": \"2018-08-25\"}\n",
            "{\"applySn\": \"粤G妆网备字2018100043\", \"applySnTT\": \"\", \"apply_enter_address\": \"\", \"enterpriseName\": \"红三兵实业投资（广州）有限公司\", \"enterpriseNameTT\": \"\", \"is_off\": \"N\", \"newProcessid\": \"20180821154556z39ut\", \"off_date\": \"\", \"org_name\": \"\", \"processid\": \"20180821154556z39ut\", \"productName\": \"QIANMEI天然美肤补水面膜\", \"productNameTT\": \"\", \"provinceConfirm\": \"2018-08-25\"}\n",
            "{\"applySn\": \"粤G妆网备字2018100045\", \"applySnTT\": \"\", \"apply_enter_address\": \"\", \"enterpriseName\": \"广州彤姿生物科技有限公司\", \"enterpriseNameTT\": \"\", \"is_off\": \"N\", \"newProcessid\": \"201806251424506f482\", \"off_date\": \"\", \"org_name\": \"\", \"processid\": \"201806251424506f482\", \"productName\": \"润宣 臻致漆光锁色唇釉D05豆沙色\", \"productNameTT\": \"\", \"provinceConfirm\": \"2018-08-23\"}\n",
            "{\"applySn\": \"粤G妆网备字2018100049\", \"applySnTT\": \"\", \"apply_enter_address\": \"\", \"enterpriseName\": \"广州彤姿生物科技有限公司\", \"enterpriseNameTT\": \"\", \"is_off\": \"N\", \"newProcessid\": \"20180625143015hedrb\", \"off_date\": \"\", \"org_name\": \"\", \"processid\": \"20180625143015hedrb\", \"productName\": \"润宣 臻致漆光锁色唇釉Q04番茄红\", \"productNameTT\": \"\", \"provinceConfirm\": \"2018-08-23\"}\n",
            "{\"applySn\": \"粤G妆网备字2018100041\", \"applySnTT\": \"\", \"apply_enter_address\": \"\", \"enterpriseName\": \"广州雅驰化妆品有限公司\", \"enterpriseNameTT\": \"\", \"is_off\": \"N\", \"newProcessid\": \"20180620175028en538\", \"off_date\": \"\", \"org_name\": \"\", \"processid\": \"20180620175028en538\", \"productName\": \"雅芙蔻 水润光感气垫CC霜\", \"productNameTT\": \"\", \"provinceConfirm\": \"2018-07-16\"}\n",
            "{\"applySn\": \"粤G妆网备字2018100048\", \"applySnTT\": \"\", \"apply_enter_address\": \"\", \"enterpriseName\": \"广东科玮生物技术股份有限公司\", \"enterpriseNameTT\": \"\", \"is_off\": \"N\", \"newProcessid\": \"20180625085302g77fz\", \"off_date\": \"\", \"org_name\": \"\", \"processid\": \"20180625085302g77fz\", \"productName\": \"Princesual 膜膜哒玻尿酸蚕丝面膜\", \"productNameTT\": \"\", \"provinceConfirm\": \"2018-07-16\"}\n",
            "{\"applySn\": \"粤G妆网备字2018100042\", \"applySnTT\": \"\", \"apply_enter_address\": \"\", \"enterpriseName\": \"广州重生化妆品实业有限公司\", \"enterpriseNameTT\": \"\", \"is_off\": \"N\", \"newProcessid\": \"20180621110234zfwx3\", \"off_date\": \"\", \"org_name\": \"\", \"processid\": \"20180621110234zfwx3\", \"productName\": \"灿恩肽紧肤焕颜套-深透水润修护面膜\", \"productNameTT\": \"\", \"provinceConfirm\": \"2018-07-16\"}\n",
            "{\"applySn\": \"粤G妆网备字2018100040\", \"applySnTT\": \"\", \"apply_enter_address\": \"\", \"enterpriseName\": \"广东贝豪生物科技有限公司\", \"enterpriseNameTT\": \"\", \"is_off\": \"N\", \"newProcessid\": \"20180604145314ivkpy\", \"off_date\": \"\", \"org_name\": \"\", \"processid\": \"20180604145314ivkpy\", \"productName\": \"悠鲜亮睛睛滋养眼膜\", \"productNameTT\": \"\", \"provinceConfirm\": \"2018-07-10\"}\n",
            "{\"applySn\": \"粤G妆网备字2018100046\", \"applySnTT\": \"\", \"apply_enter_address\": \"\", \"enterpriseName\": \"广州市铖顺化妆品有限公司\", \"enterpriseNameTT\": \"\", \"is_off\": \"N\", \"newProcessid\": \"20180616143220fnobr\", \"off_date\": \"\", \"org_name\": \"\", \"processid\": \"20180616143220fnobr\", \"productName\": \"佩翘封面炫黑旋转分离式眼线笔NO.2739\", \"productNameTT\": \"\", \"provinceConfirm\": \"2018-07-07\"}\n",
            "{\"applySn\": \"粤G妆网备字2018100042\", \"applySnTT\": \"\", \"apply_enter_address\": \"\", \"enterpriseName\": \"广州灿恩生物科技有限公司\", \"enterpriseNameTT\": \"\", \"is_off\": \"N\", \"newProcessid\": \"20180621110234zfwx3\", \"off_date\": \"\", \"org_name\": \"\", \"processid\": \"20180621110234zfwx3\", \"productName\": \"灿恩肽紧肤焕颜套-深透水润修护面膜\", \"productNameTT\": \"\", \"provinceConfirm\": \"2018-07-07\"}\n",
            "{\"applySn\": \"粤G妆网备字2018100045\", \"applySnTT\": \"\", \"apply_enter_address\": \"\", \"enterpriseName\": \"广州润宣化妆品有限公司\", \"enterpriseNameTT\": \"\", \"is_off\": \"N\", \"newProcessid\": \"201806251424506f482\", \"off_date\": \"\", \"org_name\": \"\", \"processid\": \"201806251424506f482\", \"productName\": \"润宣 臻致漆光锁色唇釉D05豆沙色\", \"productNameTT\": \"\", \"provinceConfirm\": \"2018-07-07\"}\n",
            "{\"applySn\": \"粤G妆网备字2018100049\", \"applySnTT\": \"\", \"apply_enter_address\": \"\", \"enterpriseName\": \"广州润宣化妆品有限公司\", \"enterpriseNameTT\": \"\", \"is_off\": \"N\", \"newProcessid\": \"20180625143015hedrb\", \"off_date\": \"\", \"org_name\": \"\", \"processid\": \"20180625143015hedrb\", \"productName\": \"润宣 臻致漆光锁色唇釉Q04番茄红\", \"productNameTT\": \"\", \"provinceConfirm\": \"2018-07-07\"}\n",
            "{\"applySn\": \"粤G妆网备字2018100048\", \"applySnTT\": \"\", \"apply_enter_address\": \"\", \"enterpriseName\": \"广州币爵商贸有限公司\", \"enterpriseNameTT\": \"\", \"is_off\": \"N\", \"newProcessid\": \"20180625085302g77fz\", \"off_date\": \"\", \"org_name\": \"\", \"processid\": \"20180625085302g77fz\", \"productName\": \"Princesual 膜膜哒玻尿酸蚕丝面膜\", \"productNameTT\": \"\", \"provinceConfirm\": \"2018-07-07\"}\n",
            "{\"applySn\": \"粤G妆网备字2018100045\", \"applySnTT\": \"\", \"apply_enter_address\": \"\", \"enterpriseName\": \"广州润宣化妆品有限公司\", \"enterpriseNameTT\": \"\", \"is_off\": \"N\", \"newProcessid\": \"201806251424506f482\", \"off_date\": \"\", \"org_name\": \"\", \"processid\": \"201806251424506f482\", \"productName\": \"润宣 臻致漆光锁色唇釉D05豆沙色\", \"productNameTT\": \"\", \"provinceConfirm\": \"2018-07-07\"}\n",
            "{\"applySn\": \"粤G妆网备字2018100049\", \"applySnTT\": \"\", \"apply_enter_address\": \"\", \"enterpriseName\": \"广州润宣化妆品有限公司\", \"enterpriseNameTT\": \"\", \"is_off\": \"N\", \"newProcessid\": \"20180625143015hedrb\", \"off_date\": \"\", \"org_name\": \"\", \"processid\": \"20180625143015hedrb\", \"productName\": \"润宣 臻致漆光锁色唇釉Q04番茄红\", \"productNameTT\": \"\", \"provinceConfirm\": \"2018-07-07\"}\n",
            "{\"applySn\": \"粤G妆网备字2018100048\", \"applySnTT\": \"\", \"apply_enter_address\": \"\", \"enterpriseName\": \"广州币爵商贸有限公司\", \"enterpriseNameTT\": \"\", \"is_off\": \"N\", \"newProcessid\": \"20180625085302g77fz\", \"off_date\": \"\", \"org_name\": \"\", \"processid\": \"20180625085302g77fz\", \"productName\": \"Princesual 膜膜哒玻尿酸蚕丝面膜\", \"productNameTT\": \"\", \"provinceConfirm\": \"2018-07-07\"}\n"
          ],
          "name": "stdout"
        }
      ]
    },
    {
      "metadata": {
        "id": "fYiICOdOTX33",
        "colab_type": "code",
        "colab": {
          "base_uri": "https://localhost:8080/",
          "height": 125
        },
        "outputId": "ec4214e6-1c53-406d-c2c0-459a634d3f5e"
      },
      "cell_type": "code",
      "source": [
        ""
      ],
      "execution_count": 13,
      "outputs": [
        {
          "output_type": "stream",
          "text": [
            "Go to this URL in a browser: https://accounts.google.com/o/oauth2/auth?client_id=947318989803-6bn6qk8qdgf4n4g3pfee6491hc0brc4i.apps.googleusercontent.com&redirect_uri=urn%3Aietf%3Awg%3Aoauth%3A2.0%3Aoob&scope=email%20https%3A%2F%2Fwww.googleapis.com%2Fauth%2Fdocs.test%20https%3A%2F%2Fwww.googleapis.com%2Fauth%2Fdrive%20https%3A%2F%2Fwww.googleapis.com%2Fauth%2Fdrive.photos.readonly%20https%3A%2F%2Fwww.googleapis.com%2Fauth%2Fpeopleapi.readonly&response_type=code\n",
            "\n",
            "Enter your authorization code:\n",
            "··········\n",
            "Mounted at /content/gdrive\n"
          ],
          "name": "stdout"
        }
      ]
    },
    {
      "metadata": {
        "id": "20vvFBdnTp2e",
        "colab_type": "code",
        "colab": {}
      },
      "cell_type": "code",
      "source": [
        "with open('/content/gdrive/My Drive/colab/foo.txt', 'a+') as f:\n",
        "    f.write('Hello Google Drive!')\n",
        "!cat /content/gdrive/My\\ Drive/colab/foo.txt"
      ],
      "execution_count": 0,
      "outputs": []
    },
    {
      "metadata": {
        "id": "0zZxfq0sT8Nu",
        "colab_type": "code",
        "colab": {
          "base_uri": "https://localhost:8080/",
          "height": 34
        },
        "outputId": "0a27a7d5-f60f-4da0-9d1a-4960e53ecfb9"
      },
      "cell_type": "code",
      "source": [
        ""
      ],
      "execution_count": 37,
      "outputs": [
        {
          "output_type": "stream",
          "text": [
            "Hello Google Drive!"
          ],
          "name": "stdout"
        }
      ]
    },
    {
      "metadata": {
        "id": "8_qcfHtoUZXU",
        "colab_type": "code",
        "colab": {
          "base_uri": "https://localhost:8080/",
          "height": 34
        },
        "outputId": "5297df8b-4411-40c8-a871-cf4610ed999a"
      },
      "cell_type": "code",
      "source": [
        "!cd content/gdrive"
      ],
      "execution_count": 22,
      "outputs": [
        {
          "output_type": "stream",
          "text": [
            "/bin/bash: line 0: cd: content/gdrive: No such file or directory\n"
          ],
          "name": "stdout"
        }
      ]
    },
    {
      "metadata": {
        "id": "A0YWGpFEUdgl",
        "colab_type": "code",
        "colab": {
          "base_uri": "https://localhost:8080/",
          "height": 34
        },
        "outputId": "9cc8a766-7f3b-4a6f-fdc2-38b675fca889"
      },
      "cell_type": "code",
      "source": [
        "!ls"
      ],
      "execution_count": 23,
      "outputs": [
        {
          "output_type": "stream",
          "text": [
            "gdrive\tsample_data  test.txt  Yue-10k.txt\n"
          ],
          "name": "stdout"
        }
      ]
    },
    {
      "metadata": {
        "id": "vkXMM7xhUeyH",
        "colab_type": "code",
        "colab": {}
      },
      "cell_type": "code",
      "source": [
        "!cd gdrive"
      ],
      "execution_count": 0,
      "outputs": []
    },
    {
      "metadata": {
        "id": "9YBsNS2NUpTG",
        "colab_type": "code",
        "colab": {
          "base_uri": "https://localhost:8080/",
          "height": 34
        },
        "outputId": "3c3053a3-23d6-4d9b-dbc9-7d76764e01f9"
      },
      "cell_type": "code",
      "source": [
        "!ls"
      ],
      "execution_count": 25,
      "outputs": [
        {
          "output_type": "stream",
          "text": [
            "gdrive\tsample_data  test.txt  Yue-10k.txt\n"
          ],
          "name": "stdout"
        }
      ]
    },
    {
      "metadata": {
        "id": "ggWALP3XUqU2",
        "colab_type": "code",
        "colab": {}
      },
      "cell_type": "code",
      "source": [
        "!ls ./gdrive/My\\ Drive/colab/"
      ],
      "execution_count": 0,
      "outputs": []
    },
    {
      "metadata": {
        "id": "LVzf-bXlUvZ9",
        "colab_type": "code",
        "colab": {}
      },
      "cell_type": "code",
      "source": [
        ""
      ],
      "execution_count": 0,
      "outputs": []
    }
  ]
}