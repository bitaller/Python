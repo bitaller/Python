# -*- coding: utf-8 -*-
"""
Created on Fri Nov 16 10:36:38 2018
Purpose: 
@author: taller
"""
def main():
    pass



if __name__ == "__main__":   
    main()
